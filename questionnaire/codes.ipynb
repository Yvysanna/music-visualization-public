{
 "cells": [
  {
   "cell_type": "markdown",
   "metadata": {},
   "source": [
    "This was an attempt to count codes, it has been stached, after discussing that there would be no purpose in doing this"
   ]
  },
  {
   "cell_type": "code",
   "execution_count": null,
   "metadata": {},
   "outputs": [],
   "source": [
    "import pandas as pd\n",
    "import re\n",
    "\n",
    "# read data from xls file\n",
    "df = pd.read_excel('dataCOPY.xlsx')"
   ]
  },
  {
   "cell_type": "code",
   "execution_count": null,
   "metadata": {},
   "outputs": [],
   "source": [
    "d = {'Q5_CODE1': 'Genre',\n",
    " 'Q9b_CODE4': 'Why never shared',\n",
    " 'Q10a_CATEGORIES': 'Insights through reflection',\n",
    " 'Q10b1_CODE1': 'Detailed insights',\n",
    " 'Q17_CODE4': 'Timeframe purpose',\n",
    " 'Q18b_CODE1': 'Additional sharing',\n",
    " 'Q19_CODE3' : 'Sharing purposes',\n",
    " 'Q21_CODE3' : 'Why not sharing'}\n",
    "cols = set(d.keys())"
   ]
  },
  {
   "cell_type": "code",
   "execution_count": null,
   "metadata": {},
   "outputs": [],
   "source": [
    "\n",
    "# Get a list of all column names\n",
    "column_names = df.columns.tolist()\n",
    "\n",
    "# Filter the list for columns containing codes from predefined dict\n",
    "code_columns = [col for col in column_names if col in cols]\n",
    "\n",
    "# Analyze all rows for these columns\n",
    "df_code = df[code_columns]"
   ]
  },
  {
   "cell_type": "code",
   "execution_count": null,
   "metadata": {},
   "outputs": [],
   "source": [
    "def count_values(series):\n",
    "    # Initialize an empty dictionary to store the counts\n",
    "    counts = {}\n",
    "\n",
    "    # Iterate over each row in the series\n",
    "    for row in series:\n",
    "        # Split the row by either ';' or ','\n",
    "        values = re.split(';|,', row)\n",
    "\n",
    "        # Count the occurrence of each value\n",
    "        for value in values:\n",
    "            # Remove leading and trailing whitespaces\n",
    "            value = value.strip(' ')\n",
    "            if value in counts:\n",
    "                counts[value] += 1\n",
    "            else:\n",
    "                counts[value] = 1\n",
    "\n",
    "    # Convert the dictionary to a pandas Series and return it\n",
    "    return pd.Series(counts)"
   ]
  },
  {
   "cell_type": "code",
   "execution_count": null,
   "metadata": {},
   "outputs": [],
   "source": [
    "df_code.keys()"
   ]
  },
  {
   "cell_type": "markdown",
   "metadata": {},
   "source": [
    "## Q9: Why has never shared"
   ]
  },
  {
   "cell_type": "code",
   "execution_count": null,
   "metadata": {},
   "outputs": [],
   "source": [
    "series = df_code['Q9b_CODE4'].dropna()\n",
    "value_counts = count_values(series)\n",
    "value_counts.sort_values(ascending=False, inplace=True)\n",
    "value_counts"
   ]
  },
  {
   "cell_type": "markdown",
   "metadata": {},
   "source": [
    "## Q21: Why would never share"
   ]
  },
  {
   "cell_type": "code",
   "execution_count": null,
   "metadata": {},
   "outputs": [],
   "source": [
    "series = df_code['Q21_CODE3'].dropna()\n",
    "value_counts = count_values(series)\n",
    "value_counts.sort_values(ascending=False, inplace=True)\n",
    "value_counts"
   ]
  },
  {
   "cell_type": "markdown",
   "metadata": {},
   "source": [
    "## Q10a: Insights through reflection and misconception compared to data"
   ]
  },
  {
   "cell_type": "code",
   "execution_count": null,
   "metadata": {},
   "outputs": [],
   "source": [
    "def count_specific_values(series):\n",
    "    # Initialize an empty dictionary to store the counts\n",
    "    counts = {}\n",
    "\n",
    "    # Iterate over each row in the series\n",
    "    for row in series:\n",
    "        # Split the row by either ';' or ','\n",
    "        values = re.split(';|,', row)\n",
    "\n",
    "        # if 'artist' in value or 'artists' in value or 'genre' in value or 'genres' in value or 'songs' in value:\n",
    "        # replace value with 'x\n",
    "\n",
    "        # Count the occurrence of each value\n",
    "        for value in values:\n",
    "            # Remove leading and trailing whitespaces\n",
    "            value = value.strip(' ')\n",
    "            # if 'artist' in value or 'artists' in value or 'genre' in value or 'genres' in value or 'songs' in value:\n",
    "            # replace with 'x'\n",
    "            value = re.sub(r'artist(s)?', 'x', value)\n",
    "            value = re.sub(r'genre(s)?', 'x', value)\n",
    "            value = re.sub(r'band(s)?', 'x', value)\n",
    "            value = re.sub(r'song(s)?', 'x', value)\n",
    "            value = re.sub(r'music(s)?', 'x', value)\n",
    "\n",
    "            if value in counts:\n",
    "                counts[value] += 1\n",
    "            else:\n",
    "                counts[value] = 1\n",
    "\n",
    "    # Convert the dictionary to a pandas Series and return it\n",
    "    return pd.Series(counts)"
   ]
  },
  {
   "cell_type": "code",
   "execution_count": null,
   "metadata": {},
   "outputs": [],
   "source": [
    "series = df_code['Q10a_CATEGORIES'].dropna()\n",
    "value_counts = count_specific_values(series)\n",
    "\n",
    "value_counts.sort_values(ascending=False, inplace=True)\n",
    "value_counts"
   ]
  },
  {
   "cell_type": "markdown",
   "metadata": {},
   "source": [
    "### Q10b: Differences compared to the expected"
   ]
  },
  {
   "cell_type": "code",
   "execution_count": null,
   "metadata": {},
   "outputs": [],
   "source": [
    "series = df_code['Q10b1_CODE1'].dropna()\n",
    "value_counts = count_values(series)\n",
    "value_counts.sort_values(ascending=False, inplace=True)\n",
    "value_counts"
   ]
  },
  {
   "cell_type": "code",
   "execution_count": null,
   "metadata": {},
   "outputs": [],
   "source": [
    "series = df_code['Q17_CODE4'].dropna()\n",
    "value_counts = count_values(series)\n",
    "value_counts.sort_values(ascending=False, inplace=True)\n",
    "value_counts"
   ]
  },
  {
   "cell_type": "markdown",
   "metadata": {},
   "source": [
    "## Q18: What else would people like to share with what people?"
   ]
  },
  {
   "cell_type": "code",
   "execution_count": null,
   "metadata": {},
   "outputs": [],
   "source": [
    "series = df_code['Q18b_CODE1'].dropna()\n",
    "value_counts = count_values(series)\n",
    "value_counts.sort_values(ascending=False, inplace=True)\n",
    "value_counts"
   ]
  },
  {
   "cell_type": "markdown",
   "metadata": {},
   "source": [
    "## Q19: Why people share music"
   ]
  },
  {
   "cell_type": "code",
   "execution_count": null,
   "metadata": {},
   "outputs": [],
   "source": [
    "series = df_code['Q19_CODE3'].dropna()\n",
    "value_counts = count_values(series)\n",
    "value_counts.sort_values(ascending=False, inplace=True)\n",
    "value_counts"
   ]
  },
  {
   "cell_type": "code",
   "execution_count": null,
   "metadata": {},
   "outputs": [],
   "source": []
  },
  {
   "cell_type": "code",
   "execution_count": null,
   "metadata": {},
   "outputs": [],
   "source": []
  }
 ],
 "metadata": {
  "kernelspec": {
   "display_name": "Python 3",
   "language": "python",
   "name": "python3"
  },
  "language_info": {
   "codemirror_mode": {
    "name": "ipython",
    "version": 3
   },
   "file_extension": ".py",
   "mimetype": "text/x-python",
   "name": "python",
   "nbconvert_exporter": "python",
   "pygments_lexer": "ipython3",
   "version": "3.11.6"
  }
 },
 "nbformat": 4,
 "nbformat_minor": 2
}
