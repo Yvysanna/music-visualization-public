{
 "cells": [
  {
   "cell_type": "code",
   "execution_count": null,
   "metadata": {},
   "outputs": [],
   "source": [
    "from geopy.geocoders import Nominatim\n",
    "import pandas as pd\n",
    "import re"
   ]
  },
  {
   "cell_type": "code",
   "execution_count": null,
   "metadata": {},
   "outputs": [],
   "source": [
    "# Read data and add country series\n",
    "original = pd.read_csv(\"new.csv\")\n",
    "original = original.drop(['StartDate', 'EndDate', 'Status', 'IPAddress', 'RecipientLastName', 'RecipientFirstName', 'RecipientEmail', 'DistributionChannel', 'ExternalReference', 'UserLanguage'], axis=1)\n",
    "first_two_rows = original.iloc[:2] \n",
    "original = original.iloc[2:]\n",
    "original.rename(columns={'Text / Graphic': 'Consent', 'Q2 Single choice': 'Gender'}, inplace=True)"
   ]
  },
  {
   "cell_type": "code",
   "execution_count": null,
   "metadata": {},
   "outputs": [],
   "source": [
    "# Drop columns that did not receive any replies\n",
    "clean = original.dropna(axis=1, how='all')"
   ]
  },
  {
   "cell_type": "code",
   "execution_count": null,
   "metadata": {},
   "outputs": [],
   "source": [
    "# Drop everyone who did not consent\n",
    "condition_consent = original['Consent'] == 'Yes, I consent'\n",
    "condition_nan = original.isnull().all(axis=1)\n",
    "condition_consent = original[condition_consent | condition_nan]"
   ]
  },
  {
   "cell_type": "code",
   "execution_count": null,
   "metadata": {},
   "outputs": [],
   "source": [
    "# Remove all unfinished participantions\n",
    "condition_finished = original['Finished'] != 'False'\n",
    "condition_nan = original.isnull().all(axis=1)\n",
    "\n",
    "# Combine conditions using logical OR (|)\n",
    "clean = original[condition_finished | condition_nan]"
   ]
  },
  {
   "cell_type": "code",
   "execution_count": null,
   "metadata": {},
   "outputs": [],
   "source": [
    "# Add countries to dataset\n",
    "geolocator = Nominatim(user_agent=\"example_app\")\n",
    "\n",
    "# Define a function for reverse geocoding\n",
    "def reverse_geocode(row: pd.Series) -> str | None:\n",
    "    \"\"\"\n",
    "    Reverse geocodes latitude and longitude values in a Pandas Series with 'geopy' to determine the country.\n",
    "\n",
    "    Parameters:\n",
    "        row (pd.Series): A Pandas Series containing latitude and longitude values.\n",
    "\n",
    "    Returns:\n",
    "        str | None: The country name if successfully reverse geocoded; otherwise, None.\n",
    "    \"\"\"\n",
    "    if pd.isnull(row['LocationLatitude']) and pd.isnull(row['LocationLongitude']):\n",
    "        return None\n",
    "    location = geolocator.reverse((row['LocationLatitude'], row['LocationLongitude']), language='en')\n",
    "    if location and 'address' in location.raw:\n",
    "        return location.raw['address'].get('country', None)\n",
    "    else:\n",
    "        return None\n",
    "    \n",
    "# Apply the function to create a new 'Country' column\n",
    "clean['Country'] = clean.apply(reverse_geocode, axis=1)\n"
   ]
  },
  {
   "cell_type": "code",
   "execution_count": null,
   "metadata": {},
   "outputs": [],
   "source": [
    "# Change the times to appropriate european time\n",
    "clean['RecordedDate'] = pd.to_datetime(clean['RecordedDate'])\n",
    "\n",
    "# Define the time zone offset for America/Denver in hours\n",
    "denver_offset = -7\n",
    "\n",
    "# Convert to Central European Time (CET)\n",
    "clean['RecordedDate'] = clean['RecordedDate'] + pd.DateOffset(hours=denver_offset)"
   ]
  },
  {
   "cell_type": "code",
   "execution_count": null,
   "metadata": {},
   "outputs": [],
   "source": [
    "# Clean weekly listening data\n",
    "\n",
    "def clean_series(series):\n",
    "    cleaned_values = []\n",
    "\n",
    "    for value in series:\n",
    "        if isinstance(value, str):\n",
    "            # Extract numeric values from strings\n",
    "            numbers = re.findall(r'\\d+', value)\n",
    "            # If just normal numbers\n",
    "            if numbers:\n",
    "                # If multiple numbers are found, take the midpoint value for ranges\n",
    "                num = int(numbers[0]) if len(numbers) == 1 else float(int(numbers[1]) + int(numbers[0]))/2.0\n",
    "\n",
    "                # Check for additional characters and therefore special cases\n",
    "                if 'h' in value:\n",
    "                    cleaned_values.append(num)\n",
    "                elif ',' in value:\n",
    "                    cleaned_values.append(1.5)\n",
    "                elif '.' in value:\n",
    "                    cleaned_values.append(float(value))\n",
    "                elif value == '5 hours a day x 7 days':\n",
    "                    cleaned_values.append(5*7)\n",
    "                elif 'daily' in value:\n",
    "                    cleaned_values.append(num*7)\n",
    "                else:\n",
    "                    cleaned_values.append(num)\n",
    "            else:\n",
    "                cleaned_values.append(None)\n",
    "\n",
    "        else:\n",
    "            # If the value is not a string, keep it as is\n",
    "            cleaned_values.append(value)\n",
    "\n",
    "    return pd.Series(cleaned_values)"
   ]
  },
  {
   "cell_type": "code",
   "execution_count": null,
   "metadata": {},
   "outputs": [],
   "source": [
    "# Weekly listening hours\n",
    "clean.Q4 = clean_series(clean.Q4)\n",
    "average_value = clean.Q4.mean()\n",
    "print(f\"On average participants listened {average_value} hours per week\")"
   ]
  },
  {
   "cell_type": "code",
   "execution_count": null,
   "metadata": {},
   "outputs": [],
   "source": [
    "clean.drop(['LocationLatitude','LocationLongitude','Consent', 'Finished'], axis=1, inplace=True)"
   ]
  },
  {
   "cell_type": "code",
   "execution_count": null,
   "metadata": {},
   "outputs": [],
   "source": [
    "# Save cleaned data\n",
    "clean.to_csv('clean.csv')"
   ]
  }
 ],
 "metadata": {
  "kernelspec": {
   "display_name": "Python 3",
   "language": "python",
   "name": "python3"
  },
  "language_info": {
   "codemirror_mode": {
    "name": "ipython",
    "version": 3
   },
   "file_extension": ".py",
   "mimetype": "text/x-python",
   "name": "python",
   "nbconvert_exporter": "python",
   "pygments_lexer": "ipython3",
   "version": "3.10.11"
  }
 },
 "nbformat": 4,
 "nbformat_minor": 2
}
