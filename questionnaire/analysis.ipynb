{
 "cells": [
  {
   "cell_type": "code",
   "execution_count": null,
   "metadata": {},
   "outputs": [],
   "source": [
    "import pandas as pd\n",
    "import matplotlib.pyplot as plt\n",
    "import re\n",
    "import seaborn as sns\n",
    "import warnings\n",
    "warnings.filterwarnings('ignore')"
   ]
  },
  {
   "cell_type": "code",
   "execution_count": null,
   "metadata": {},
   "outputs": [],
   "source": [
    "clean = pd.read_csv('clean.csv')"
   ]
  },
  {
   "cell_type": "markdown",
   "metadata": {},
   "source": [
    "## Visualize demographics of participants"
   ]
  },
  {
   "cell_type": "code",
   "execution_count": null,
   "metadata": {},
   "outputs": [],
   "source": [
    "def visualize_demographics(df: pd.DataFrame = clean) -> None:\n",
    "\n",
    "    # Assuming 'Country' is the column containing country information\n",
    "    country_counts = df['Country'].dropna().value_counts()\n",
    "\n",
    "    # Plotting\n",
    "    plt.figure(figsize=(10, 6))\n",
    "\n",
    "    country_counts = country_counts.sort_values(ascending=True)\n",
    "    country_counts.plot(kind='barh', color='skyblue')\n",
    "\n",
    "    plt.title('Distribution of Survey Participants by Country')\n",
    "    plt.xlabel('Number of Participants')\n",
    "    plt.ylabel('Country')\n",
    "\n",
    "    # Add grid\n",
    "    plt.grid(True, linestyle='--', alpha=0.7)\n",
    "\n",
    "    # Add extra ticks (adjust the values in ticks to your preference)\n",
    "    extra_ticks = list(range(30))\n",
    "    plt.xticks(list(plt.yticks()[0]) + extra_ticks)\n",
    "\n",
    "    plt.show()\n",
    "\n",
    "visualize_demographics(clean)\n",
    "\n",
    "#print(clean['Country'].dropna().value_counts())"
   ]
  },
  {
   "cell_type": "markdown",
   "metadata": {},
   "source": [
    "## Analyze Gender"
   ]
  },
  {
   "cell_type": "code",
   "execution_count": null,
   "metadata": {},
   "outputs": [],
   "source": [
    "# Participants' gender description\n",
    "def count_values(series):\n",
    "    value_counts = series.value_counts(dropna=False)\n",
    "    return value_counts.to_dict()\n",
    "\n",
    "gender_counts = count_values(clean['Gender'])\n",
    "print(gender_counts)"
   ]
  },
  {
   "cell_type": "markdown",
   "metadata": {},
   "source": [
    "## Visualize Barplot with mean"
   ]
  },
  {
   "cell_type": "code",
   "execution_count": null,
   "metadata": {},
   "outputs": [],
   "source": [
    "def barplot_with_mean(df: pd.DataFrame, numeric_column: str, identifier_column: str = 'ResponseId') -> None:\n",
    "    \"\"\"\n",
    "    Visualize data in a DataFrame using a bar plot with error bars.\n",
    "\n",
    "    Parameters:\n",
    "    - df: DataFrame\n",
    "      The input DataFrame containing the data.\n",
    "    - numeric_column: str\n",
    "      The name of the column containing numeric data for visualization.\n",
    "    - identifier_column: str\n",
    "      The name of the column containing identifiers (e.g., participant IDs).\n",
    "\n",
    "    Returns:\n",
    "    - None (displays the plot)\n",
    "    \"\"\"\n",
    "\n",
    "    # Convert the numeric column to int\n",
    "    # df[numeric_column] = df[numeric_column].astype(int)\n",
    "\n",
    "    # Calculate average and standard deviation\n",
    "    average_value = df[numeric_column].mean()\n",
    "    print(average_value)\n",
    "\n",
    "    # Plotting\n",
    "    plt.figure(figsize=(10, 6))\n",
    "    ax = sns.barplot(x=identifier_column, y=numeric_column, data=df.iloc[1:], color='lightblue')\n",
    "\n",
    "    # Draw a horizontal line for the average value\n",
    "    ax.axhline(y=average_value, color='red', linestyle='--', label=f'Average {numeric_column}')\n",
    "\n",
    "    plt.title(f'{numeric_column} Distribution with Average {numeric_column}')\n",
    "    plt.xlabel(identifier_column)\n",
    "    plt.ylabel(numeric_column)\n",
    "    plt.legend()\n",
    "    plt.show()"
   ]
  },
  {
   "cell_type": "markdown",
   "metadata": {},
   "source": [
    "## Look at participants' age"
   ]
  },
  {
   "cell_type": "code",
   "execution_count": null,
   "metadata": {},
   "outputs": [],
   "source": [
    "# Calculate and plot age demographics\n",
    "age_df = clean[['ResponseId','Q1']]\n",
    "age_df.Q1 = age_df.Q1.astype(int)\n",
    "\n",
    "print(f'Oldest: {age_df.Q1.max()}, Youngest: {age_df.Q1.min()}')\n",
    "barplot_with_mean(age_df.sort_values(axis=0, by='Q1'), 'Q1', 'ResponseId')"
   ]
  },
  {
   "cell_type": "code",
   "execution_count": null,
   "metadata": {},
   "outputs": [],
   "source": [
    "# Plot age distribution in this dataset\n",
    "plt.figure(figsize=(10, 6))\n",
    "sns.histplot(data=clean, x='Q1', bins=10, kde=True)\n",
    "\n",
    "# Calculate the mean\n",
    "mean_age = clean['Q1'].mean()\n",
    "\n",
    "# Add the mean line\n",
    "plt.axvline(x=mean_age, color='red', linestyle='--', label='Mean Age')\n",
    "\n",
    "plt.title('Distribution of Age')\n",
    "plt.xlabel('Age')\n",
    "plt.ylabel('Count')\n",
    "plt.legend()\n",
    "plt.show()"
   ]
  },
  {
   "cell_type": "code",
   "execution_count": null,
   "metadata": {},
   "outputs": [],
   "source": [
    "# Calculate median and IQR since age is non-normally distributed\n",
    "median_age = clean['Q1'].median()\n",
    "iqr = clean['Q1'].quantile(0.75) - clean['Q1'].quantile(0.25)\n",
    "\n",
    "print(f'Median age: {median_age}, IQR: {iqr}')"
   ]
  },
  {
   "cell_type": "markdown",
   "metadata": {},
   "source": [
    "Same for hours listened in a week"
   ]
  },
  {
   "cell_type": "code",
   "execution_count": null,
   "metadata": {},
   "outputs": [],
   "source": [
    "# Plot age distribution in this dataset\n",
    "plt.figure(figsize=(10, 6))\n",
    "sns.histplot(data=clean, x='Q4', bins=10, kde=True)\n",
    "\n",
    "# Calculate the mean\n",
    "mean_age = clean['Q4'].mean()\n",
    "\n",
    "# Add the mean line\n",
    "plt.axvline(x=mean_age, color='red', linestyle='--', label='Mean Age')\n",
    "\n",
    "plt.title('Music listening per week')\n",
    "plt.xlabel('Hours')\n",
    "plt.ylabel('Count')\n",
    "plt.legend()\n",
    "plt.show()"
   ]
  },
  {
   "cell_type": "code",
   "execution_count": null,
   "metadata": {},
   "outputs": [],
   "source": [
    "# Calculate median and IQR since hours listened also non-normally distributed\n",
    "median_hours = clean['Q4'].median()\n",
    "iqr_hours = clean['Q4'].quantile(0.75) - clean['Q4'].quantile(0.25)\n",
    "\n",
    "print(f'Median hours: {median_hours}, IQR: {iqr_hours}')"
   ]
  },
  {
   "cell_type": "code",
   "execution_count": null,
   "metadata": {},
   "outputs": [],
   "source": [
    "interview = pd.DataFrame({'Age': [23,23,24,26], 'Hours': [10,12,30,30]})\n",
    "\n",
    "# Plot age distribution in this dataset\n",
    "plt.figure(figsize=(10, 6))\n",
    "sns.histplot(data=interview, x='Age', bins=4, kde=True)\n",
    "\n",
    "# Calculate the mean\n",
    "mean_age = interview['Age'].mean()\n",
    "\n",
    "# Add the mean line\n",
    "plt.axvline(x=mean_age, color='red', linestyle='--', label='Mean Age')\n",
    "\n",
    "plt.title('Music listening per week')\n",
    "plt.xlabel('Hours')\n",
    "plt.ylabel('Count')\n",
    "plt.legend()\n",
    "plt.show()"
   ]
  },
  {
   "cell_type": "code",
   "execution_count": null,
   "metadata": {},
   "outputs": [],
   "source": [
    "# Calculate median and IQR since hours listened also non-normally distributed\n",
    "median_hours = interview['Age'].median()\n",
    "iqr_hours = interview['Age'].quantile(0.75) - interview['Age'].quantile(0.25)\n",
    "\n",
    "print(f'Median hours: {median_hours}, IQR: {iqr_hours}')"
   ]
  },
  {
   "cell_type": "markdown",
   "metadata": {},
   "source": [
    "## Music Streaming Services used"
   ]
  },
  {
   "cell_type": "code",
   "execution_count": null,
   "metadata": {},
   "outputs": [],
   "source": [
    "def count_answers(series: pd.Series) -> dict[str, int]:\n",
    "    # Create a dict to store the results\n",
    "    answers_counts: dict[str, int] = {}\n",
    "\n",
    "    # Iterate through each row in the specified column\n",
    "    for value in series:\n",
    "            \n",
    "        # Split the values in the column based on comma and remove duplicates\n",
    "        answers = set(re.split(r',(?!\\s*euphoric)', str(value)))#set(str(value).split(','))\n",
    "\n",
    "        # Update the result DataFrame with the counts\n",
    "        for answer in answers:\n",
    "            answers_counts[answer] = answers_counts.get(answer, 0) + 1\n",
    "\n",
    "    return answers_counts"
   ]
  },
  {
   "cell_type": "code",
   "execution_count": null,
   "metadata": {},
   "outputs": [],
   "source": [
    "# Which streaming services participants used mostly\n",
    "streaming = count_answers(clean['Q3 Multiple Choice'])"
   ]
  },
  {
   "cell_type": "code",
   "execution_count": null,
   "metadata": {},
   "outputs": [],
   "source": [
    "def make_percentage(items: list[tuple[str, int]], total: int) -> dict:\n",
    "    return {item: count/ total * 100 for item, count in items}"
   ]
  },
  {
   "cell_type": "code",
   "execution_count": null,
   "metadata": {},
   "outputs": [],
   "source": [
    "# Calculate percentages for which music streaming services people use\n",
    "total_count = len(clean)\n",
    "percentages = make_percentage(list(streaming.items()), total_count)\n",
    "percentages"
   ]
  },
  {
   "cell_type": "code",
   "execution_count": null,
   "metadata": {},
   "outputs": [],
   "source": [
    "def visualize_service_distribution(service_percentages):\n",
    "    services = list(service_percentages.keys())\n",
    "    percentages = list(service_percentages.values())\n",
    "\n",
    "    plt.bar(services, percentages, color=['pink', 'green', 'blue', 'gray'])\n",
    "    plt.xlabel('Streaming Service')\n",
    "    plt.ylabel('Percentage')\n",
    "    plt.title('Streaming Service Distribution')\n",
    "    plt.ylim(0, 100)  # Set y-axis limit to 0-100%\n",
    "    plt.show()\n",
    "\n",
    "visualize_service_distribution(percentages)"
   ]
  },
  {
   "cell_type": "code",
   "execution_count": null,
   "metadata": {},
   "outputs": [],
   "source": [
    "# Which streaming services participants used mostly\n",
    "reflected = count_answers(clean['Q10'])\n",
    "total_count = len(clean)\n",
    "reflect_all = make_percentage(list(reflected.items()), total_count)\n",
    "reflect_spot = make_percentage(list(reflected.items()), streaming['Spotify'])\n",
    "reflect_all, reflect_spot\n",
    "reflected.items()"
   ]
  },
  {
   "cell_type": "markdown",
   "metadata": {},
   "source": [
    "## Q10b: People surprised from their insights through reflection"
   ]
  },
  {
   "cell_type": "code",
   "execution_count": null,
   "metadata": {},
   "outputs": [],
   "source": [
    "# How many surprised insights\n",
    "counts = clean.Q10b.dropna().value_counts()\n",
    "\n",
    "# Calculate surprised insights percentages\n",
    "percentages = make_percentage(list(counts.items()), len(clean.Q10b.dropna()))\n",
    "percentages\n"
   ]
  },
  {
   "cell_type": "markdown",
   "metadata": {},
   "source": [
    "## Q14: What are people interested in having visualized"
   ]
  },
  {
   "cell_type": "code",
   "execution_count": null,
   "metadata": {},
   "outputs": [],
   "source": [
    "interests = count_answers(clean.Q14)\n",
    "\n",
    "# Show percentages of what people want to have visualized\n",
    "percentages = make_percentage(list(interests.items()), len(clean))\n",
    "\n",
    "# print the percentages neatly\n",
    "for interest, percentage in percentages.items():\n",
    "    print(f'{interest}: {percentage:.2f}%')\n"
   ]
  },
  {
   "cell_type": "code",
   "execution_count": null,
   "metadata": {},
   "outputs": [],
   "source": [
    "# create a function to sort percentages\n",
    "def sort_percentages(percentages: dict[str, float]) -> dict[str, float]:\n",
    "    return dict(sorted(percentages.items(), key=lambda x: x[1], reverse=False))"
   ]
  },
  {
   "cell_type": "code",
   "execution_count": null,
   "metadata": {},
   "outputs": [],
   "source": [
    "# create a visualization for the percentages\n",
    "\n",
    "def visualize_interests(interest_percentages: dict[str, float], title: str):\n",
    "    interests = list(interest_percentages.keys())#[2:]\n",
    "    percentages = list(interest_percentages.values())#[2:]\n",
    "\n",
    "    # Looks better\n",
    "    interests[3] =  \"frequency of listening to\\ncertain music / artists\"\n",
    "\n",
    "    plt.barh(interests, percentages)\n",
    "\n",
    "    # make 'nothing' bar grey\n",
    "    plt.barh(interests[0], percentages[0], color='grey')\n",
    "    \n",
    "    plt.xlabel('Participants interested in choice (in %)')\n",
    "  \n",
    "    # Align title so that image compacter\n",
    "    plt.title(title, loc='right')\n",
    "    plt.grid(True, linestyle='--', alpha=0.7)\n",
    "    plt.xlim(0, 100)  # Set y-axis limit to 0-100%\n",
    "\n",
    "    # Add the data value on head of the bar\n",
    "    for index, value in enumerate(percentages):\n",
    "        plt.text(value + 1, index, f\"{value:.2f}%\")\n",
    "\n",
    "    plt.show()\n",
    "\n",
    "visualize_interests(sort_percentages(percentages), 'What insights would participants want to acquire through their music listening history?')\n"
   ]
  },
  {
   "cell_type": "markdown",
   "metadata": {},
   "source": [
    "## Q15: What features of music listening interesting"
   ]
  },
  {
   "cell_type": "code",
   "execution_count": null,
   "metadata": {},
   "outputs": [],
   "source": [
    "\n",
    "features = count_answers(clean.Q15)\n",
    "\n",
    "feat_percentages = make_percentage(list(features.items()), len(clean))\n",
    "visualize_interests(sort_percentages(feat_percentages), \"Which music features are participants interested in\")"
   ]
  },
  {
   "cell_type": "markdown",
   "metadata": {},
   "source": [
    "## Q16: Which time periods are people the most interested in having visualized"
   ]
  },
  {
   "cell_type": "code",
   "execution_count": null,
   "metadata": {},
   "outputs": [],
   "source": [
    "periods = count_answers(clean.Q16)\n",
    "per_percentages = make_percentage(list(periods.items()), len(clean))\n",
    "#sort_percentages(per_percentages)\n",
    "visualize_interests(sort_percentages(per_percentages), \"Which time periods participants are interested in?\")"
   ]
  },
  {
   "cell_type": "markdown",
   "metadata": {},
   "source": [
    "## Q17: Why are people interested in specific time periods"
   ]
  },
  {
   "cell_type": "code",
   "execution_count": null,
   "metadata": {},
   "outputs": [],
   "source": [
    "# select all values from Q17 that mention \"how\" and \"change\"\n",
    "c = clean.Q17.dropna()\n",
    "print(len(c))\n",
    "\n",
    "# count how many people mentioned \"change\"\n",
    "change = c.str.contains('change').values.sum()\n",
    "print(change)\n",
    "\n",
    "# Percentage of people explicitly mentioning how changed\n",
    "print(f\"{change/len(c)*100:.2f}% of participants explicitly mentioned being interested in changes in their music listening habits\")\n"
   ]
  },
  {
   "cell_type": "code",
   "execution_count": null,
   "metadata": {},
   "outputs": [],
   "source": [
    "# select all values from Q17 that mention \"how\" and \"change\"\n",
    "how_change = clean[clean.Q17.str.contains('how') & clean.Q17.str.contains('change')]\n",
    "\n",
    "# display all of them\n",
    "pd.set_option('display.max_colwidth', None)\n",
    "\n",
    "# Percentage of people explicitly mentioning how changed\n",
    "how_change_mentions = len(how_change.Q17)\n",
    "q17 = clean.Q17.dropna().value_counts()\n",
    "print(f\"{len(how_change.Q17)/len(q17)*100:.2f}% of participants explicitly mentioned being interested in how their music listening habits had changed\")\n"
   ]
  }
 ],
 "metadata": {
  "interpreter": {
   "hash": "bd385fe162c5ca0c84973b7dd5c518456272446b2b64e67c2a69f949ca7a1754"
  },
  "kernelspec": {
   "display_name": "Python 3.10.11 64-bit",
   "language": "python",
   "name": "python3"
  },
  "language_info": {
   "codemirror_mode": {
    "name": "ipython",
    "version": 3
   },
   "file_extension": ".py",
   "mimetype": "text/x-python",
   "name": "python",
   "nbconvert_exporter": "python",
   "pygments_lexer": "ipython3",
   "version": "3.10.11"
  },
  "orig_nbformat": 4
 },
 "nbformat": 4,
 "nbformat_minor": 2
}
