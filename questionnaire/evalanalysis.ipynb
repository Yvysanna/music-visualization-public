{
 "cells": [
  {
   "cell_type": "code",
   "execution_count": null,
   "metadata": {},
   "outputs": [],
   "source": [
    "import pandas as pd\n",
    "import matplotlib.pyplot as plt\n",
    "import seaborn as sns"
   ]
  },
  {
   "cell_type": "code",
   "execution_count": null,
   "metadata": {},
   "outputs": [],
   "source": [
    "\n",
    "def count_interactions(filename):\n",
    "    counts = dict()\n",
    "    with open(filename, \"r\") as f:\n",
    "        lines = f.readlines()\n",
    "\n",
    "        for line in lines:\n",
    "            interaction = line.split(\"1\")[0]\n",
    "            if interaction not in counts:\n",
    "                counts[interaction] = 1\n",
    "            else:\n",
    "                counts[interaction] += 1\n",
    "\n",
    "    return counts\n"
   ]
  },
  {
   "cell_type": "code",
   "execution_count": null,
   "metadata": {},
   "outputs": [],
   "source": [
    "\n",
    "def count_interactions_cond(filename):\n",
    "    \"\"\"Counts interactions but cleans playing of track which falsely appears too much in data\"\"\"\n",
    "    counts = dict()\n",
    "    with open(filename, \"r\") as f:\n",
    "        lines = f.readlines()\n",
    "\n",
    "        for i, line in enumerate(lines):\n",
    "            interaction = line.split(\"1\")[0]\n",
    "            if interaction not in counts:\n",
    "                counts[interaction] = 1\n",
    "            elif line.startswith(\"User listens\") and line == lines[i-1]:\n",
    "                continue\n",
    "            else:\n",
    "                counts[interaction] += 1\n",
    "\n",
    "    return counts\n"
   ]
  },
  {
   "cell_type": "code",
   "execution_count": null,
   "metadata": {},
   "outputs": [],
   "source": [
    "p3 = count_interactions_cond(\"p3log.txt\")\n",
    "p4 = count_interactions_cond(\"p4log.txt\")\n",
    "p2 = count_interactions_cond(\"p2log.txt\")\n",
    "\n",
    "print(p3,\"\\n\", p4,\"\\n\", p2,\"\\n\")"
   ]
  },
  {
   "cell_type": "code",
   "execution_count": null,
   "metadata": {},
   "outputs": [],
   "source": [
    "# Write a function that compares the differences in the values for three dics with the same keys\n",
    "def compare_interactions(dict1, dict2, dict3):\n",
    "    df = pd.DataFrame([dict1, dict2, dict3])\n",
    "    df = df.transpose()\n",
    "    df.columns = [\"p3\", \"p4\", \"p2\"]\n",
    "    df[\"p3-p4\"] = df[\"p3\"] - df[\"p4\"]\n",
    "    df[\"p3-p2\"] = df[\"p3\"] - df[\"p2\"]\n",
    "    df[\"p4-p2\"] = df[\"p4\"] - df[\"p2\"]\n",
    "    return df"
   ]
  },
  {
   "cell_type": "code",
   "execution_count": null,
   "metadata": {},
   "outputs": [],
   "source": [
    "compare_interactions(p3, p4, p2)"
   ]
  },
  {
   "cell_type": "code",
   "execution_count": null,
   "metadata": {},
   "outputs": [],
   "source": [
    "# order the compare interactions by total between P3, P4 and P2 for each interaction\n",
    "df = compare_interactions(p3, p4, p2)\n",
    "df[\"total\"] = df[\"p3\"] + df[\"p4\"] + df[\"p2\"]\n",
    "df[\"average\"] = df[\"total\"]/3\n",
    "df.sort_values(by=\"total\", ascending=False)\n"
   ]
  },
  {
   "cell_type": "code",
   "execution_count": null,
   "metadata": {},
   "outputs": [],
   "source": [
    "df[\"total\"] = df[\"p3\"] + df[\"p4\"] + df[\"p2\"]\n",
    "\n",
    "df.sort_values(by=\"average\", ascending=False)\n",
    "vis_df = df.drop(columns=[\"p3-p4\", \"p3-p2\", \"p4-p2\", \"total\"])\n",
    "vis_df = vis_df.drop(index=[\"User is logging into Spotify \", \"User is logged in and has fetched tracks and features \"])"
   ]
  },
  {
   "cell_type": "code",
   "execution_count": null,
   "metadata": {},
   "outputs": [],
   "source": [
    "# create a visualisation of the interactions for p3, p4, p2 and average\n",
    "sns.set()\n",
    "\n",
    "# turn the text on the x axis by 40 degrees\n",
    "vis_df.plot.bar()\n",
    "#plt.xticks(rotation=40)\n",
    "plt.show()"
   ]
  },
  {
   "cell_type": "markdown",
   "metadata": {},
   "source": [
    "# SRIS"
   ]
  },
  {
   "cell_type": "code",
   "execution_count": null,
   "metadata": {},
   "outputs": [],
   "source": [
    "df = pd.read_csv(\"sris.csv\")"
   ]
  },
  {
   "cell_type": "code",
   "execution_count": null,
   "metadata": {},
   "outputs": [],
   "source": [
    "# reverse points; if df[\"Reverse\"] == 1, then reverse the points (1-6)\n",
    "df[\"Reverse\"] = df[\"Reverse\"].fillna(0)\n",
    "df[\"Reverse\"] = df[\"Reverse\"].astype(bool)"
   ]
  },
  {
   "cell_type": "code",
   "execution_count": null,
   "metadata": {},
   "outputs": [],
   "source": [
    "def reverse(df):\n",
    "    df.loc[df[\"Reverse\"], [\"P1\", \"P2\", \"P3\", \"P4\"]] = 7 - df.loc[df[\"Reverse\"], [\"P1\", \"P2\", \"P3\", \"P4\"]]\n",
    "    return df\n",
    "\n",
    "\n",
    "processed = reverse(df)"
   ]
  },
  {
   "cell_type": "code",
   "execution_count": null,
   "metadata": {},
   "outputs": [],
   "source": [
    "# Data split based on subscales\n",
    "engage = processed.iloc[0:6]\n",
    "need = processed.iloc[7:13]\n",
    "insight = processed.iloc[14::]"
   ]
  },
  {
   "cell_type": "markdown",
   "metadata": {},
   "source": [
    "Scores and Percentages for each factor of SRIS"
   ]
  },
  {
   "cell_type": "code",
   "execution_count": null,
   "metadata": {},
   "outputs": [],
   "source": [
    "# Percentages\n",
    "for l in [\"P1\", \"P2\", \"P3\", \"P4\"]:\n",
    "    print(l, \"SR-E:\", round((engage[l].sum() / 36) * 100, 2), \"%\")\n",
    "    print(l, \"SR-E:\", round((engage[l].sum())))\n",
    "\n",
    "    print(l, \"SR-N:\", round((need[l].sum() / 36) * 100, 2), \"%\")\n",
    "    print(l, \"SR-N:\", round((need[l].sum())))\n",
    "\n",
    "    print(l, \"IN:\", round((insight[l].sum() / 48) * 100, 2), \"%\")\n",
    "    print(l, \"IN:\", round((insight[l].sum())))\n",
    "\n",
    "    print(\"-------------\")"
   ]
  },
  {
   "cell_type": "markdown",
   "metadata": {},
   "source": [
    "Scores and Percentages for Self-Reflection in Total"
   ]
  },
  {
   "cell_type": "code",
   "execution_count": null,
   "metadata": {},
   "outputs": [],
   "source": [
    "# sum the values for engage and need for each label and calculate that percentage of the total (max 72)\n",
    "print(\"SR Scores and Percentages\")\n",
    "for l in [\"P1\", \"P2\", \"P3\", \"P4\"]:\n",
    "    print(l, \"SR:\", (engage[l].sum() + need[l].sum()))\n",
    "    print(l, \"SR:\", round(((engage[l].sum() + need[l].sum()) / 72) * 100, 2), \"%\")\n",
    "    print(\"-------------\")"
   ]
  },
  {
   "cell_type": "markdown",
   "metadata": {},
   "source": [
    "Scores and Percentages overall in SRIS"
   ]
  },
  {
   "cell_type": "code",
   "execution_count": null,
   "metadata": {},
   "outputs": [],
   "source": [
    "print(\"SRIS Scores and Percentages\")\n",
    "for l in [\"P1\", \"P2\", \"P3\", \"P4\"]:\n",
    "    print(l, \"T:\", (engage[l].sum() + need[l].sum() + insight[l].sum()))\n",
    "    print(l, \"T:\", round(((engage[l].sum() + need[l].sum() + insight[l].sum())/120) * 100, 2), \"%\")\n",
    "    print(\"-------------\")"
   ]
  }
 ],
 "metadata": {
  "kernelspec": {
   "display_name": "Python 3",
   "language": "python",
   "name": "python3"
  },
  "language_info": {
   "codemirror_mode": {
    "name": "ipython",
    "version": 3
   },
   "file_extension": ".py",
   "mimetype": "text/x-python",
   "name": "python",
   "nbconvert_exporter": "python",
   "pygments_lexer": "ipython3",
   "version": "3.11.6"
  }
 },
 "nbformat": 4,
 "nbformat_minor": 2
}
